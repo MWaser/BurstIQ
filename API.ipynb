{
  "nbformat": 4,
  "nbformat_minor": 0,
  "metadata": {
    "colab": {
      "provenance": [],
      "authorship_tag": "ABX9TyO0+m5++vueAQeX2vX07wHC",
      "include_colab_link": true
    },
    "kernelspec": {
      "name": "python3",
      "display_name": "Python 3"
    },
    "language_info": {
      "name": "python"
    }
  },
  "cells": [
    {
      "cell_type": "markdown",
      "metadata": {
        "id": "view-in-github",
        "colab_type": "text"
      },
      "source": [
        "<a href=\"https://colab.research.google.com/github/MWaser/BurstIQ/blob/main/API.ipynb\" target=\"_parent\"><img src=\"https://colab.research.google.com/assets/colab-badge.svg\" alt=\"Open In Colab\"/></a>"
      ]
    },
    {
      "cell_type": "markdown",
      "source": [
        "## This notebook is for the purposes of\n",
        "### 1.   Familiarizing the reader with BurstIQ's admin tool cliq2\n",
        "### 2.   Allowing the developer to create a new interactive API for all BurstIQ operations from the cliq2 source code\n",
        "\n"
      ],
      "metadata": {
        "id": "pza3gQoPKSkv"
      }
    },
    {
      "cell_type": "markdown",
      "source": [
        "## 1. Upgrade Python Version if necessary"
      ],
      "metadata": {
        "id": "oN-wtkql7G8r"
      }
    },
    {
      "cell_type": "markdown",
      "source": [
        "The BurstIQ API requires Python 3.13 or greater.  Check the version to see if upgrading is necessary."
      ],
      "metadata": {
        "id": "wl7agr_x3tKC"
      }
    },
    {
      "cell_type": "code",
      "execution_count": 6,
      "metadata": {
        "colab": {
          "base_uri": "https://localhost:8080/"
        },
        "id": "j-qCNcwc3gXw",
        "outputId": "591efd87-d68d-4a15-e3d2-ba166f435e71"
      },
      "outputs": [
        {
          "output_type": "stream",
          "name": "stdout",
          "text": [
            "Python 3.11.11\n"
          ]
        }
      ],
      "source": [
        "!python --version"
      ]
    },
    {
      "cell_type": "markdown",
      "source": [
        "# If upgrading is necessary, run the next box. <br />\n",
        "Don't worry about any warnings recommending a virtual machine -- a notebook is already a virtual machine."
      ],
      "metadata": {
        "id": "q4j25rUa4FAn"
      }
    },
    {
      "cell_type": "code",
      "source": [
        "!sudo apt-get update -y\n",
        "!sudo apt-get install python3.13\n",
        "\n",
        "!sudo update-alternatives --install /usr/bin/python3 python3 /usr/bin/python3.13 1\n",
        "print('')\n",
        "print('')\n",
        "!python --version\n",
        "print('')\n",
        "print('')\n",
        "!sudo apt-get install python3-pip"
      ],
      "metadata": {
        "id": "1NqP8gSJ4R1o",
        "outputId": "478377fd-85d7-45b8-bc6f-2de7d68abaea",
        "colab": {
          "base_uri": "https://localhost:8080/"
        }
      },
      "execution_count": 7,
      "outputs": [
        {
          "output_type": "stream",
          "name": "stdout",
          "text": [
            "\r0% [Working]\r            \rHit:1 http://security.ubuntu.com/ubuntu jammy-security InRelease\n",
            "\r0% [Waiting for headers] [Connected to cloud.r-project.org (108.157.173.97)] [C\r                                                                               \rHit:2 http://archive.ubuntu.com/ubuntu jammy InRelease\n",
            "\r                                                                               \rHit:3 http://archive.ubuntu.com/ubuntu jammy-updates InRelease\n",
            "\r                                                                               \rHit:4 https://cloud.r-project.org/bin/linux/ubuntu jammy-cran40/ InRelease\n",
            "\r0% [Waiting for headers] [Connecting to r2u.stat.illinois.edu (192.17.190.167)]\r                                                                               \rHit:5 http://archive.ubuntu.com/ubuntu jammy-backports InRelease\n",
            "\r0% [Connected to r2u.stat.illinois.edu (192.17.190.167)] [Connected to develope\r                                                                               \rHit:6 https://developer.download.nvidia.com/compute/cuda/repos/ubuntu2204/x86_64  InRelease\n",
            "Hit:7 https://r2u.stat.illinois.edu/ubuntu jammy InRelease\n",
            "Hit:8 https://ppa.launchpadcontent.net/deadsnakes/ppa/ubuntu jammy InRelease\n",
            "Hit:9 https://ppa.launchpadcontent.net/graphics-drivers/ppa/ubuntu jammy InRelease\n",
            "Hit:10 https://ppa.launchpadcontent.net/ubuntugis/ppa/ubuntu jammy InRelease\n",
            "Reading package lists... Done\n",
            "W: Skipping acquire of configured file 'main/source/Sources' as repository 'https://r2u.stat.illinois.edu/ubuntu jammy InRelease' does not seem to provide it (sources.list entry misspelt?)\n",
            "Reading package lists... Done\n",
            "Building dependency tree... Done\n",
            "Reading state information... Done\n",
            "python3.13 is already the newest version (3.13.3-1+jammy1).\n",
            "0 upgraded, 0 newly installed, 0 to remove and 41 not upgraded.\n",
            "Python 3.11.11\n",
            "Reading package lists... Done\n",
            "Building dependency tree... Done\n",
            "Reading state information... Done\n",
            "python3-pip is already the newest version (22.0.2+dfsg-1ubuntu0.5).\n",
            "0 upgraded, 0 newly installed, 0 to remove and 41 not upgraded.\n"
          ]
        }
      ]
    },
    {
      "cell_type": "markdown",
      "source": [
        "# 2. Install BurstIQ Command Line (cliq2)"
      ],
      "metadata": {
        "id": "h5AH1voO-x6r"
      }
    },
    {
      "cell_type": "markdown",
      "source": [
        "Grab Python Wheel Installation file from Github Repo"
      ],
      "metadata": {
        "id": "EakOIAvv_JO7"
      }
    },
    {
      "cell_type": "code",
      "source": [
        "!curl -H 'Accept: application/vnd.github.v3.raw' -O \\\n",
        "  -L https://api.github.com/repos/clinical-squared/BurstIQ/contents/cliq-3.1.0-py3-none-any.whl"
      ],
      "metadata": {
        "id": "eYwxRk6EIpNe",
        "outputId": "ada5c7fd-921e-4b7f-e177-7b17b8524515",
        "colab": {
          "base_uri": "https://localhost:8080/"
        }
      },
      "execution_count": null,
      "outputs": [
        {
          "output_type": "stream",
          "name": "stdout",
          "text": [
            "  % Total    % Received % Xferd  Average Speed   Time    Time     Time  Current\n",
            "                                 Dload  Upload   Total   Spent    Left  Speed\n",
            "100   141  100   141    0     0    669      0 --:--:-- --:--:-- --:--:--   671\n"
          ]
        }
      ]
    },
    {
      "cell_type": "code",
      "source": [
        "!curl -O -J https://graph.burstiq.com/dev_docs/pages/cliq/sources/cliq-3.1.0-py3-none-any.whl"
      ],
      "metadata": {
        "colab": {
          "base_uri": "https://localhost:8080/"
        },
        "id": "esmlru6VpM1B",
        "outputId": "de693dd4-c960-4baf-d0ae-1df603041829"
      },
      "execution_count": 3,
      "outputs": [
        {
          "output_type": "stream",
          "name": "stdout",
          "text": [
            "  % Total    % Received % Xferd  Average Speed   Time    Time     Time  Current\n",
            "                                 Dload  Upload   Total   Spent    Left  Speed\n",
            "100 36550  100 36550    0     0  76569      0 --:--:-- --:--:-- --:--:-- 76624\n"
          ]
        }
      ]
    },
    {
      "cell_type": "markdown",
      "source": [
        "Install from Wheel file"
      ],
      "metadata": {
        "id": "cTgHz2U9JCFZ"
      }
    },
    {
      "cell_type": "code",
      "source": [
        "!pip3 --version"
      ],
      "metadata": {
        "id": "FqsTz4tZR_YY",
        "outputId": "0e0516bb-2189-40d4-825d-ea49841baa0e",
        "colab": {
          "base_uri": "https://localhost:8080/"
        }
      },
      "execution_count": null,
      "outputs": [
        {
          "output_type": "stream",
          "name": "stdout",
          "text": [
            "pip 24.1.2 from /usr/local/lib/python3.11/dist-packages/pip (python 3.11)\n"
          ]
        }
      ]
    },
    {
      "cell_type": "code",
      "source": [
        "!pip3 install --break-system-packages cliq-3.1.0-py3-none-any.whl"
      ],
      "metadata": {
        "id": "vwuUFU_UJQD1",
        "outputId": "b1385ac5-f6e1-4050-c802-72488b9cfdb3",
        "colab": {
          "base_uri": "https://localhost:8080/"
        }
      },
      "execution_count": 4,
      "outputs": [
        {
          "output_type": "stream",
          "name": "stdout",
          "text": [
            "Processing ./cliq-3.1.0-py3-none-any.whl\n",
            "Requirement already satisfied: requests>=2.32.3 in /usr/local/lib/python3.11/dist-packages (from cliq==3.1.0) (2.32.3)\n",
            "Requirement already satisfied: requests_toolbelt>=1.0.0 in /usr/local/lib/python3.11/dist-packages (from cliq==3.1.0) (1.0.0)\n",
            "Requirement already satisfied: cachetools>=5.5.0 in /usr/local/lib/python3.11/dist-packages (from cliq==3.1.0) (5.5.2)\n",
            "Collecting clint>=0.5.1 (from cliq==3.1.0)\n",
            "  Downloading clint-0.5.1.tar.gz (29 kB)\n",
            "  Preparing metadata (setup.py) ... \u001b[?25l\u001b[?25hdone\n",
            "Requirement already satisfied: pyyaml>=6.0.1 in /usr/local/lib/python3.11/dist-packages (from cliq==3.1.0) (6.0.2)\n",
            "Collecting jsonpath-ng>=1.7.0 (from cliq==3.1.0)\n",
            "  Downloading jsonpath_ng-1.7.0-py3-none-any.whl.metadata (18 kB)\n",
            "Collecting nose>=1.3.7 (from cliq==3.1.0)\n",
            "  Downloading nose-1.3.7-py3-none-any.whl.metadata (1.7 kB)\n",
            "Collecting setuptools>=78.1.0 (from cliq==3.1.0)\n",
            "  Downloading setuptools-78.1.0-py3-none-any.whl.metadata (6.6 kB)\n",
            "INFO: pip is looking at multiple versions of cliq to determine which version is compatible with other requirements. This could take a while.\n",
            "\u001b[31mERROR: Package 'cliq' requires a different Python: 3.11.11 not in '>=3.13.0'\u001b[0m\u001b[31m\n",
            "\u001b[0m"
          ]
        }
      ]
    },
    {
      "cell_type": "markdown",
      "source": [
        "Verify that command line program is installed correctly"
      ],
      "metadata": {
        "id": "B2E8F1IyYkj0"
      }
    },
    {
      "cell_type": "code",
      "source": [
        "!cliq -h"
      ],
      "metadata": {
        "colab": {
          "base_uri": "https://localhost:8080/"
        },
        "id": "yK1_cswnbSdY",
        "outputId": "1bb7ddba-7b0b-4e7e-ac70-ddee019b265b"
      },
      "execution_count": null,
      "outputs": [
        {
          "output_type": "stream",
          "name": "stdout",
          "text": [
            "usage: cliq2 [-h] [-p PROPS_FILE]\n",
            "             {version,drop_customer,drop_sdz,update_customer,predict,update_dict,import_dbschema,export_dbschema,truncate_chain,load,query,create_smart,execute_smart}\n",
            "             ...\n",
            "\n",
            "Command Line IQ (CLIQ) working with LifeGraph (aka GraphChain): Performs many of the admin-centric\n",
            "commands necessary to support/manage a customer and its SDZs.\n",
            "\n",
            "positional arguments:\n",
            "  {version,drop_customer,drop_sdz,update_customer,predict,update_dict,import_dbschema,export_dbschema,truncate_chain,load,query,create_smart,execute_smart}\n",
            "                        type \"<cmd> --help\" for help on specific command\n",
            "    version             version number\n",
            "    drop_customer       drop a customer by short name, BIQ_ADMIN only\n",
            "    drop_sdz            drop a customer's sdz by short name, BIQ_ADMIN only\n",
            "    update_customer     upserts a customer JSON configuration file, BIQ_ADMIN only\n",
            "    predict             uses a data file to predict the dictionary and mapping\n",
            "    update_dict         upserts a dictionary JSON configuration file\n",
            "    import_dbschema     upserts a dbschema file as an async job\n",
            "    export_dbschema     exports a dbschema file\n",
            "    truncate_chain      truncates a chain by name\n",
            "    load                loads data file as an async job\n",
            "    query               queries data with command line query or query from file; plus prints\n",
            "                        results to stdout or to a file\n",
            "    create_smart        create a smart contract from file\n",
            "    execute_smart       executes a smart contract\n",
            "\n",
            "options:\n",
            "  -h, --help            show this help message and exit\n",
            "  -p PROPS_FILE, --props PROPS_FILE\n",
            "                        filename of properties file; defaults to ./cliq2.yml\n",
            "\n",
            "Copyright (c) 2015-2025 BurstIQ, Inc - All Rights Reserved\n"
          ]
        }
      ]
    },
    {
      "cell_type": "code",
      "source": [
        "!cliq2 update_customer -h"
      ],
      "metadata": {
        "id": "GbP3NJLQ4K0E",
        "outputId": "8c7ee275-4c3e-4e96-83e7-8096bfc39044",
        "colab": {
          "base_uri": "https://localhost:8080/"
        }
      },
      "execution_count": null,
      "outputs": [
        {
          "output_type": "stream",
          "name": "stdout",
          "text": [
            "usage: cliq2 update_customer [-h] --file FILE\n",
            "\n",
            "options:\n",
            "  -h, --help            show this help message and exit\n",
            "  --file FILE, -f FILE  the file path for the input\n"
          ]
        }
      ]
    },
    {
      "cell_type": "markdown",
      "source": [
        "# 3. Build the Config file (cliq2.yml)"
      ],
      "metadata": {
        "id": "FYxj-9p3YbWj"
      }
    },
    {
      "cell_type": "markdown",
      "source": [
        "Documentation is at https://admin.burstiq.com/docs/pages/metadata_tools/cliq2/cliq2_desc.html#configuration\n",
        "\n",
        "Example cliq2.yml:\n",
        "> biq_admin:\n",
        ">>  username: burstiq.admin  \n",
        ">>  password: XXXXXXXXXXXXXXXXXX  \n",
        ">>  server: https://keycloak.app.burstiq.com/auth  \n",
        ">>  client_id: aaaaaaaaaaaa  \n",
        ">>  realm: bbbbbbbbbbbb\n",
        "\n",
        "> sdz_admin:\n",
        ">>  username: john.wayne  \n",
        ">>  password: XXXXXXXXXXXXXXXXXX  \n",
        ">>  server: https://keycloak.app.burstiq.com/auth  \n",
        ">>  client_id: burst  \n",
        ">>  realm: { customer_shortname }  \n",
        "\n",
        "> graphchain:\n",
        ">>  server: https://app.burstiq.com  \n",
        ">>  customer: { customer_shortname }  \n",
        ">>  sdz: { customer_sdz_name }  "
      ],
      "metadata": {
        "id": "zWU1GCgvE1Ts"
      }
    },
    {
      "cell_type": "markdown",
      "source": [
        "Use secrets for username, password, customer_shortname and customer_sdz name (the key on the left menu) to generate cliq.yml <br />\n",
        "<b>IMPORTANT!!! </b> If you uncomment the #cat, be sure to delete the results before saving or all your secret information will be in the save file!"
      ],
      "metadata": {
        "id": "w6qNAwr8HI4T"
      }
    },
    {
      "cell_type": "code",
      "source": [
        "from google.colab import userdata\n",
        "yml = open(r\"cliq2.yml\", \"w\")\n",
        "yml.write(\"sdz_admin:\\n\");\n",
        "yml.writelines(\"   username: \" + userdata.get('username') + \"\\n\");\n",
        "yml.writelines(\"   password: \" + userdata.get('password') + \"\\n\");\n",
        "yml.writelines(\"   server: https://keycloak.app.burstiq.com/auth\\n\");\n",
        "yml.writelines(\"   client_id: burst\\n\");\n",
        "yml.writelines(\"   realm: \" + userdata.get('customer_shortname') + \"\\n\");\n",
        "yml.writelines(\"graphchain:\\n\");\n",
        "yml.writelines(\"   server: https://app.burstiq.com\\n\");\n",
        "yml.writelines(\"   customer: \" + userdata.get('customer_shortname') + \"\\n\");\n",
        "yml.writelines(\"   sdz: \" + userdata.get('customer_sdz_name') + \"\\n\");\n",
        "yml.close();\n",
        "\n",
        "!cat cliq2.yml\n"
      ],
      "metadata": {
        "id": "Qsq622-jDHQk"
      },
      "execution_count": null,
      "outputs": []
    },
    {
      "cell_type": "markdown",
      "source": [
        "# 4. Initialize the new API"
      ],
      "metadata": {
        "id": "UDH5EAV9L9S4"
      }
    },
    {
      "cell_type": "markdown",
      "source": [
        "Copy Cliq2 Wheel file and unzip original BurstIQ source files from it"
      ],
      "metadata": {
        "id": "1yvMWTAG5BKc"
      }
    },
    {
      "cell_type": "code",
      "source": [
        "!curl -H 'Accept: application/vnd.github.v3.raw' -O \\\n",
        "  -L https://api.github.com/repos/clinical-squared/BurstIQ/contents/cliq2-1.0.0-py3-none-any.whl\n",
        "\n",
        "! cp cliq2-1.0.0-py3-none-any.whl API.zip\n",
        "! unzip -o API.zip"
      ],
      "metadata": {
        "colab": {
          "base_uri": "https://localhost:8080/"
        },
        "id": "mLqkGmkmMD9K",
        "outputId": "78c3e82e-01b2-4af8-f74d-92742be3d3e7"
      },
      "execution_count": null,
      "outputs": [
        {
          "output_type": "stream",
          "name": "stdout",
          "text": [
            "  % Total    % Received % Xferd  Average Speed   Time    Time     Time  Current\n",
            "                                 Dload  Upload   Total   Spent    Left  Speed\n",
            "\r  0     0    0     0    0     0      0      0 --:--:-- --:--:-- --:--:--     0\r  0     0    0     0    0     0      0      0 --:--:-- --:--:-- --:--:--     0\r100 21896  100 21896    0     0   114k      0 --:--:-- --:--:-- --:--:--  114k\n",
            "Archive:  API.zip\n",
            "  inflating: __init__.py             \n",
            "  inflating: cliq2.py                \n",
            "  inflating: cliq_properties.py      \n",
            "  inflating: consts.py               \n",
            "  inflating: util.py                 \n",
            "  inflating: actions/__init__.py     \n",
            "  inflating: actions/cliq_action.py  \n",
            "  inflating: actions/create_smart_contract.py  \n",
            "  inflating: actions/drop_customer.py  \n",
            "  inflating: actions/drop_sdz.py     \n",
            "  inflating: actions/execute_smart_contract.py  \n",
            "  inflating: actions/export_dbschema.py  \n",
            "  inflating: actions/import_dbschema.py  \n",
            "  inflating: actions/load_data.py    \n",
            "  inflating: actions/predict.py      \n",
            "  inflating: actions/query.py        \n",
            "  inflating: actions/truncate_chain.py  \n",
            "  inflating: actions/update_customer.py  \n",
            "  inflating: actions/update_dict.py  \n",
            "  inflating: actions/version.py      \n",
            "  inflating: graphchain_client/__init__.py  \n",
            "  inflating: graphchain_client/graphchain_client.py  \n",
            "  inflating: graphchain_client/http_client.py  \n",
            "  inflating: cliq2-1.0.0.dist-info/LICENSE  \n",
            "  inflating: cliq2-1.0.0.dist-info/METADATA  \n",
            "  inflating: cliq2-1.0.0.dist-info/WHEEL  \n",
            "  inflating: cliq2-1.0.0.dist-info/entry_points.txt  \n",
            "  inflating: cliq2-1.0.0.dist-info/top_level.txt  \n",
            "  inflating: cliq2-1.0.0.dist-info/RECORD  \n"
          ]
        }
      ]
    },
    {
      "cell_type": "markdown",
      "source": [
        "Import and validate CliqProperties"
      ],
      "metadata": {
        "id": "SyiNHsdH59Wi"
      }
    },
    {
      "cell_type": "code",
      "source": [
        "import sys\n",
        "sys.path.append('/usr/local/lib/python3.11/dist-packages/')\n",
        "print(\"IGNORE clint SYNTAX warning (if clint has not been imported before)\")\n",
        "import clint\n",
        "from cliq_properties import CliqProperties\n",
        "from util import Util\n",
        "props = CliqProperties(Util.standardize_file(\"cliq2.yml\"))\n",
        "print(props._graphchain)"
      ],
      "metadata": {
        "colab": {
          "base_uri": "https://localhost:8080/"
        },
        "id": "iVENV0f7WckB",
        "outputId": "0b863f75-a7e8-4d47-d7e9-4c6dabded213"
      },
      "execution_count": null,
      "outputs": [
        {
          "output_type": "stream",
          "name": "stdout",
          "text": [
            "IGNORE clint SYNTAX warning (if clint has not been imported before)\n",
            "{'server': 'https://app.burstiq.com', 'customer': 'clinical_squared', 'sdz': 'dev1'}\n"
          ]
        }
      ]
    },
    {
      "cell_type": "markdown",
      "source": [
        "Install and validate upgraded /graphchain_client/graphchain_client.py"
      ],
      "metadata": {
        "id": "YTZ9exNB64Zq"
      }
    },
    {
      "cell_type": "code",
      "source": [
        "!curl -H 'Accept: application/vnd.github.v3.raw' -O \\\n",
        "  -L https://api.github.com/repos/clinical-squared/BurstIQ/contents/graphchain_client/graphchain_client.py\n",
        "!mv graphchain_client.py graphchain_client\n",
        "from actions.cliq_action import CliqAction\n",
        "print (\"CliqAction imported!\")"
      ],
      "metadata": {
        "colab": {
          "base_uri": "https://localhost:8080/"
        },
        "id": "K6avoRoN1tYx",
        "outputId": "a80e93ec-0212-48af-a407-0041de8d887e"
      },
      "execution_count": null,
      "outputs": [
        {
          "output_type": "stream",
          "name": "stdout",
          "text": [
            "  % Total    % Received % Xferd  Average Speed   Time    Time     Time  Current\n",
            "                                 Dload  Upload   Total   Spent    Left  Speed\n",
            "100  7915  100  7915    0     0  37093      0 --:--:-- --:--:-- --:--:-- 37159\n",
            "CliqAction imported!\n"
          ]
        }
      ]
    },
    {
      "cell_type": "markdown",
      "source": [
        "# 5. Start Testing/Using the API"
      ],
      "metadata": {
        "id": "Qo9o-E_iBuMO"
      }
    },
    {
      "cell_type": "markdown",
      "source": [
        "Grab an access token for future API calls"
      ],
      "metadata": {
        "id": "P4dvtLgKA3p_"
      }
    },
    {
      "cell_type": "code",
      "source": [
        "realm = userdata.get('customer_shortname')\n",
        "un = userdata.get('username')\n",
        "pw = userdata.get('password')\n",
        "print(un)\n",
        "print(pw)\n",
        "print(realm)\n",
        "adminToken = CliqProperties._get_token(\"https://keycloak.app.burstiq.com/auth\", \"burst\", realm, un, pw)\n",
        "print(adminToken)"
      ],
      "metadata": {
        "colab": {
          "base_uri": "https://localhost:8080/",
          "height": 391
        },
        "id": "1NM6Vnut-wgR",
        "outputId": "373aa1fc-0944-485a-cd77-1a385253b020"
      },
      "execution_count": null,
      "outputs": [
        {
          "output_type": "stream",
          "name": "stdout",
          "text": [
            "mark.waser@clinicalsquared.com\n",
            "lifeH34d!\n",
            "clinical_squared\n"
          ]
        },
        {
          "output_type": "error",
          "ename": "RuntimeError",
          "evalue": "error 401: resp: {\"error\":\"invalid_grant\",\"error_description\":\"Invalid user credentials\"}",
          "traceback": [
            "\u001b[0;31m---------------------------------------------------------------------------\u001b[0m",
            "\u001b[0;31mRuntimeError\u001b[0m                              Traceback (most recent call last)",
            "\u001b[0;32m<ipython-input-12-932ce6fa20e5>\u001b[0m in \u001b[0;36m<cell line: 0>\u001b[0;34m()\u001b[0m\n\u001b[1;32m      5\u001b[0m \u001b[0mprint\u001b[0m\u001b[0;34m(\u001b[0m\u001b[0mpw\u001b[0m\u001b[0;34m)\u001b[0m\u001b[0;34m\u001b[0m\u001b[0;34m\u001b[0m\u001b[0m\n\u001b[1;32m      6\u001b[0m \u001b[0mprint\u001b[0m\u001b[0;34m(\u001b[0m\u001b[0mrealm\u001b[0m\u001b[0;34m)\u001b[0m\u001b[0;34m\u001b[0m\u001b[0;34m\u001b[0m\u001b[0m\n\u001b[0;32m----> 7\u001b[0;31m \u001b[0madminToken\u001b[0m \u001b[0;34m=\u001b[0m \u001b[0mCliqProperties\u001b[0m\u001b[0;34m.\u001b[0m\u001b[0m_get_token\u001b[0m\u001b[0;34m(\u001b[0m\u001b[0;34m\"https://keycloak.app.burstiq.com/auth\"\u001b[0m\u001b[0;34m,\u001b[0m \u001b[0;34m\"burst\"\u001b[0m\u001b[0;34m,\u001b[0m \u001b[0mrealm\u001b[0m\u001b[0;34m,\u001b[0m \u001b[0mun\u001b[0m\u001b[0;34m,\u001b[0m \u001b[0mpw\u001b[0m\u001b[0;34m)\u001b[0m\u001b[0;34m\u001b[0m\u001b[0;34m\u001b[0m\u001b[0m\n\u001b[0m\u001b[1;32m      8\u001b[0m \u001b[0mprint\u001b[0m\u001b[0;34m(\u001b[0m\u001b[0madminToken\u001b[0m\u001b[0;34m)\u001b[0m\u001b[0;34m\u001b[0m\u001b[0;34m\u001b[0m\u001b[0m\n",
            "\u001b[0;32m/content/cliq_properties.py\u001b[0m in \u001b[0;36m_get_token\u001b[0;34m(base_url, client_id, realm, un, pw)\u001b[0m\n\u001b[1;32m     21\u001b[0m \u001b[0;34m\u001b[0m\u001b[0m\n\u001b[1;32m     22\u001b[0m         \u001b[0mkeycloak_client\u001b[0m \u001b[0;34m=\u001b[0m \u001b[0mHttpClient\u001b[0m\u001b[0;34m(\u001b[0m\u001b[0mbase_url\u001b[0m\u001b[0;34m,\u001b[0m \u001b[0;32mNone\u001b[0m\u001b[0;34m,\u001b[0m \u001b[0;32mNone\u001b[0m\u001b[0;34m,\u001b[0m \u001b[0mraise_error\u001b[0m\u001b[0;34m=\u001b[0m\u001b[0;32mTrue\u001b[0m\u001b[0;34m)\u001b[0m\u001b[0;34m\u001b[0m\u001b[0;34m\u001b[0m\u001b[0m\n\u001b[0;32m---> 23\u001b[0;31m         code, resp = keycloak_client.post_urlencoded(\n\u001b[0m\u001b[1;32m     24\u001b[0m             \u001b[0;34mf\"realms/{realm}/protocol/openid-connect/token\"\u001b[0m\u001b[0;34m,\u001b[0m \u001b[0;32mNone\u001b[0m\u001b[0;34m,\u001b[0m \u001b[0;32mNone\u001b[0m\u001b[0;34m,\u001b[0m \u001b[0mbody\u001b[0m\u001b[0;34m\u001b[0m\u001b[0;34m\u001b[0m\u001b[0m\n\u001b[1;32m     25\u001b[0m         )\n",
            "\u001b[0;32m/content/graphchain_client/http_client.py\u001b[0m in \u001b[0;36mpost_urlencoded\u001b[0;34m(self, path, addl_headers, query_params, body)\u001b[0m\n\u001b[1;32m     99\u001b[0m             \u001b[0mself\u001b[0m\u001b[0;34m.\u001b[0m\u001b[0m_create_path\u001b[0m\u001b[0;34m(\u001b[0m\u001b[0mpath\u001b[0m\u001b[0;34m)\u001b[0m\u001b[0;34m,\u001b[0m \u001b[0mheaders\u001b[0m\u001b[0;34m=\u001b[0m\u001b[0mhdrs\u001b[0m\u001b[0;34m,\u001b[0m \u001b[0mparams\u001b[0m\u001b[0;34m=\u001b[0m\u001b[0mquery_params\u001b[0m\u001b[0;34m,\u001b[0m \u001b[0mdata\u001b[0m\u001b[0;34m=\u001b[0m\u001b[0mbody\u001b[0m\u001b[0;34m\u001b[0m\u001b[0;34m\u001b[0m\u001b[0m\n\u001b[1;32m    100\u001b[0m         )\n\u001b[0;32m--> 101\u001b[0;31m         \u001b[0;32mreturn\u001b[0m \u001b[0mself\u001b[0m\u001b[0;34m.\u001b[0m\u001b[0m_process_response\u001b[0m\u001b[0;34m(\u001b[0m\u001b[0mresp\u001b[0m\u001b[0;34m)\u001b[0m\u001b[0;34m\u001b[0m\u001b[0;34m\u001b[0m\u001b[0m\n\u001b[0m\u001b[1;32m    102\u001b[0m \u001b[0;34m\u001b[0m\u001b[0m\n\u001b[1;32m    103\u001b[0m     def put(\n",
            "\u001b[0;32m/content/graphchain_client/http_client.py\u001b[0m in \u001b[0;36m_process_response\u001b[0;34m(self, response)\u001b[0m\n\u001b[1;32m    231\u001b[0m         \u001b[0;32melse\u001b[0m\u001b[0;34m:\u001b[0m\u001b[0;34m\u001b[0m\u001b[0;34m\u001b[0m\u001b[0m\n\u001b[1;32m    232\u001b[0m             \u001b[0;32mif\u001b[0m \u001b[0mself\u001b[0m\u001b[0;34m.\u001b[0m\u001b[0m_raise_error\u001b[0m\u001b[0;34m:\u001b[0m\u001b[0;34m\u001b[0m\u001b[0;34m\u001b[0m\u001b[0m\n\u001b[0;32m--> 233\u001b[0;31m                 raise RuntimeError(\n\u001b[0m\u001b[1;32m    234\u001b[0m                     \u001b[0;34mf\"error {response.status_code}: resp: {response.text}\"\u001b[0m\u001b[0;34m\u001b[0m\u001b[0;34m\u001b[0m\u001b[0m\n\u001b[1;32m    235\u001b[0m                 )\n",
            "\u001b[0;31mRuntimeError\u001b[0m: error 401: resp: {\"error\":\"invalid_grant\",\"error_description\":\"Invalid user credentials\"}"
          ]
        }
      ]
    },
    {
      "cell_type": "markdown",
      "source": [
        "Since we need to build out our NPPES Data Dictionary, let's try the Predict function."
      ],
      "metadata": {
        "id": "r-XFJi-bh9vb"
      }
    },
    {
      "cell_type": "code",
      "source": [
        "!curl -H 'Accept: application/vnd.github.v3.raw' -O \\\n",
        "  -L https://api.github.com/repos/clinical-squared/BurstIQ/contents/NP_Providers_100.csv\n",
        "from graphchain_client.graphchain_client import GraphChainClient\n",
        "cust = userdata.get('customer_shortname')\n",
        "sdz = userdata.get('customer_sdz_name')\n",
        "gcc = GraphChainClient('https://app.burstiq.com', adminToken, cust, sdz)\n",
        "dictionary, mapping = gcc.predict(\"NP_Providers_100.csv\")"
      ],
      "metadata": {
        "colab": {
          "base_uri": "https://localhost:8080/",
          "height": 407
        },
        "id": "gu5rRp-Jf8-Q",
        "outputId": "6757ba3a-2f37-4c67-c0ae-2a4e213bdd87"
      },
      "execution_count": null,
      "outputs": [
        {
          "output_type": "stream",
          "name": "stdout",
          "text": [
            "  % Total    % Received % Xferd  Average Speed   Time    Time     Time  Current\n",
            "                                 Dload  Upload   Total   Spent    Left  Speed\n",
            "\r  0     0    0     0    0     0      0      0 --:--:-- --:--:-- --:--:--     0\r100 69629  100 69629    0     0   279k      0 --:--:-- --:--:-- --:--:--  280k\n"
          ]
        },
        {
          "output_type": "error",
          "ename": "RuntimeError",
          "evalue": "error 500: resp: {\"id\":\"ae244b37-88fc-417c-a2a6-ca960c2e2f05\",\"timestamp\":\"2024-01-17T13:05:49.763Z\",\"status\":500,\"error\":\"INTERNAL_SERVER_ERROR\"}",
          "traceback": [
            "\u001b[0;31m---------------------------------------------------------------------------\u001b[0m",
            "\u001b[0;31mRuntimeError\u001b[0m                              Traceback (most recent call last)",
            "\u001b[0;32m<ipython-input-18-7e6722421174>\u001b[0m in \u001b[0;36m<cell line: 6>\u001b[0;34m()\u001b[0m\n\u001b[1;32m      4\u001b[0m \u001b[0msdz\u001b[0m \u001b[0;34m=\u001b[0m \u001b[0muserdata\u001b[0m\u001b[0;34m.\u001b[0m\u001b[0mget\u001b[0m\u001b[0;34m(\u001b[0m\u001b[0;34m'customer_sdz_name'\u001b[0m\u001b[0;34m)\u001b[0m\u001b[0;34m\u001b[0m\u001b[0;34m\u001b[0m\u001b[0m\n\u001b[1;32m      5\u001b[0m \u001b[0mgcc\u001b[0m \u001b[0;34m=\u001b[0m \u001b[0mGraphChainClient\u001b[0m\u001b[0;34m(\u001b[0m\u001b[0;34m'https://app.burstiq.com'\u001b[0m\u001b[0;34m,\u001b[0m \u001b[0madminToken\u001b[0m\u001b[0;34m,\u001b[0m \u001b[0mcust\u001b[0m\u001b[0;34m,\u001b[0m \u001b[0msdz\u001b[0m\u001b[0;34m)\u001b[0m\u001b[0;34m\u001b[0m\u001b[0;34m\u001b[0m\u001b[0m\n\u001b[0;32m----> 6\u001b[0;31m \u001b[0mdictionary\u001b[0m\u001b[0;34m,\u001b[0m \u001b[0mmapping\u001b[0m \u001b[0;34m=\u001b[0m \u001b[0mgcc\u001b[0m\u001b[0;34m.\u001b[0m\u001b[0mpredict\u001b[0m\u001b[0;34m(\u001b[0m\u001b[0;34m\"NP_Providers_100.csv\"\u001b[0m\u001b[0;34m)\u001b[0m\u001b[0;34m\u001b[0m\u001b[0;34m\u001b[0m\u001b[0m\n\u001b[0m",
            "\u001b[0;32m/content/graphchain_client/graphchain_client.py\u001b[0m in \u001b[0;36mpredict\u001b[0;34m(self, fn)\u001b[0m\n\u001b[1;32m    102\u001b[0m         \u001b[0;34m:\u001b[0m\u001b[0;32mreturn\u001b[0m\u001b[0;34m:\u001b[0m \u001b[0mdictionary\u001b[0m\u001b[0;34m,\u001b[0m \u001b[0mmapping\u001b[0m\u001b[0;34m\u001b[0m\u001b[0;34m\u001b[0m\u001b[0m\n\u001b[1;32m    103\u001b[0m         \"\"\"\n\u001b[0;32m--> 104\u001b[0;31m         code, resp = self._hc.post_multipart(\n\u001b[0m\u001b[1;32m    105\u001b[0m             \u001b[0;34mf\"api/metadata/dictionary/predict\"\u001b[0m\u001b[0;34m,\u001b[0m \u001b[0;32mNone\u001b[0m\u001b[0;34m,\u001b[0m \u001b[0;32mNone\u001b[0m\u001b[0;34m,\u001b[0m \u001b[0;34m{\u001b[0m\u001b[0;34m\"file\"\u001b[0m\u001b[0;34m:\u001b[0m \u001b[0mfn\u001b[0m\u001b[0;34m}\u001b[0m\u001b[0;34m,\u001b[0m \u001b[0;32mNone\u001b[0m\u001b[0;34m\u001b[0m\u001b[0;34m\u001b[0m\u001b[0m\n\u001b[1;32m    106\u001b[0m         )\n",
            "\u001b[0;32m/content/graphchain_client/http_client.py\u001b[0m in \u001b[0;36mpost_multipart\u001b[0;34m(self, path, addl_headers, query_params, files, form)\u001b[0m\n\u001b[1;32m    191\u001b[0m             \u001b[0mdata\u001b[0m\u001b[0;34m=\u001b[0m\u001b[0mmonitored\u001b[0m\u001b[0;34m,\u001b[0m\u001b[0;34m\u001b[0m\u001b[0;34m\u001b[0m\u001b[0m\n\u001b[1;32m    192\u001b[0m         )\n\u001b[0;32m--> 193\u001b[0;31m         \u001b[0;32mreturn\u001b[0m \u001b[0mself\u001b[0m\u001b[0;34m.\u001b[0m\u001b[0m_process_response\u001b[0m\u001b[0;34m(\u001b[0m\u001b[0mresp\u001b[0m\u001b[0;34m)\u001b[0m\u001b[0;34m\u001b[0m\u001b[0;34m\u001b[0m\u001b[0m\n\u001b[0m\u001b[1;32m    194\u001b[0m \u001b[0;34m\u001b[0m\u001b[0m\n\u001b[1;32m    195\u001b[0m     def get_octet(\n",
            "\u001b[0;32m/content/graphchain_client/http_client.py\u001b[0m in \u001b[0;36m_process_response\u001b[0;34m(self, response)\u001b[0m\n\u001b[1;32m    231\u001b[0m         \u001b[0;32melse\u001b[0m\u001b[0;34m:\u001b[0m\u001b[0;34m\u001b[0m\u001b[0;34m\u001b[0m\u001b[0m\n\u001b[1;32m    232\u001b[0m             \u001b[0;32mif\u001b[0m \u001b[0mself\u001b[0m\u001b[0;34m.\u001b[0m\u001b[0m_raise_error\u001b[0m\u001b[0;34m:\u001b[0m\u001b[0;34m\u001b[0m\u001b[0;34m\u001b[0m\u001b[0m\n\u001b[0;32m--> 233\u001b[0;31m                 raise RuntimeError(\n\u001b[0m\u001b[1;32m    234\u001b[0m                     \u001b[0;34mf\"error {response.status_code}: resp: {response.text}\"\u001b[0m\u001b[0;34m\u001b[0m\u001b[0;34m\u001b[0m\u001b[0m\n\u001b[1;32m    235\u001b[0m                 )\n",
            "\u001b[0;31mRuntimeError\u001b[0m: error 500: resp: {\"id\":\"ae244b37-88fc-417c-a2a6-ca960c2e2f05\",\"timestamp\":\"2024-01-17T13:05:49.763Z\",\"status\":500,\"error\":\"INTERNAL_SERVER_ERROR\"}"
          ]
        }
      ]
    },
    {
      "cell_type": "markdown",
      "source": [
        "Yeah, that's unfortunate.  <br />Let's verify that Cliq2 can't handle the file either rather than it being an API problem."
      ],
      "metadata": {
        "id": "4qn9K5B_iNqo"
      }
    },
    {
      "cell_type": "code",
      "source": [
        "!cliq2 predict -f \"NP_Providers_100.csv\""
      ],
      "metadata": {
        "colab": {
          "base_uri": "https://localhost:8080/"
        },
        "id": "l2fTtFFViJ_P",
        "outputId": "69f86e97-c01f-4078-ff0c-0ded819343d7"
      },
      "execution_count": null,
      "outputs": [
        {
          "output_type": "stream",
          "name": "stdout",
          "text": [
            "Traceback (most recent call last):\n",
            "  File \"/usr/local/bin/cliq2\", line 8, in <module>\n",
            "    sys.exit(main())\n",
            "             ^^^^^^\n",
            "  File \"/usr/local/lib/python3.11/dist-packages/cliq2.py\", line 90, in main\n",
            "    a.run(opts, props)\n",
            "  File \"/usr/local/lib/python3.11/dist-packages/actions/predict.py\", line 21, in run\n",
            "    dictionary, mapping = gc.predict(opts.file)\n",
            "                          ^^^^^^^^^^^^^^^^^^^^^\n",
            "  File \"/usr/local/lib/python3.11/dist-packages/graphchain_client/graphchain_client.py\", line 95, in predict\n",
            "    code, resp = self._hc.post_multipart(\n",
            "                 ^^^^^^^^^^^^^^^^^^^^^^^^\n",
            "  File \"/usr/local/lib/python3.11/dist-packages/graphchain_client/http_client.py\", line 193, in post_multipart\n",
            "    return self._process_response(resp)\n",
            "           ^^^^^^^^^^^^^^^^^^^^^^^^^^^^\n",
            "  File \"/usr/local/lib/python3.11/dist-packages/graphchain_client/http_client.py\", line 233, in _process_response\n",
            "    raise RuntimeError(\n",
            "RuntimeError: error 500: resp: {\"id\":\"dba64f2c-0ebb-4738-8615-d67ac9033b12\",\"timestamp\":\"2024-01-17T13:10:02.925Z\",\"status\":500,\"error\":\"INTERNAL_SERVER_ERROR\"}\n"
          ]
        }
      ]
    },
    {
      "cell_type": "markdown",
      "source": [
        "Yep.  It's BurstIQ's problem.  Reported to Tyson.<br />\n",
        "Tyson acknowledged the problem and fixed it but it hasn't been rolled to production.<br />We'll try again later."
      ],
      "metadata": {
        "id": "NeWwprS8iyQ0"
      }
    },
    {
      "cell_type": "code",
      "source": [],
      "metadata": {
        "id": "0yiq4UBsi7mf"
      },
      "execution_count": null,
      "outputs": []
    }
  ]
}